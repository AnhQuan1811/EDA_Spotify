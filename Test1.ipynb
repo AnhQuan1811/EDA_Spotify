{
 "cells": [
  {
   "cell_type": "markdown",
   "id": "84db7c13",
   "metadata": {},
   "source": [
    "## VARIABLES"
   ]
  },
  {
   "cell_type": "code",
   "execution_count": 6,
   "id": "98c1e27b",
   "metadata": {},
   "outputs": [
    {
     "name": "stdout",
     "output_type": "stream",
     "text": [
      "My fullname is: Anh Quan Nguyen Thanh\n"
     ]
    }
   ],
   "source": [
    "#2. Create two variables. One to store your birth year and another one to store current year. \n",
    "#Now calculate your age using these two variables\n",
    "birth_year = 2001\n",
    "current_year = 2023\n",
    "age = current_year - birth_year\n",
    "age\n",
    "\n",
    "#3. Store your first, middle and last name in three different variables and then print your full name using these variables\n",
    "first_name = 'Quan'\n",
    "middle_name = 'Anh'\n",
    "last_name = 'Nguyen Thanh'\n",
    "print('My fullname is: '+ middle_name+\" \" + first_name+\" \"+last_name)"
   ]
  },
  {
   "cell_type": "markdown",
   "id": "651ec9c8",
   "metadata": {},
   "source": [
    "## NUMBERS"
   ]
  },
  {
   "cell_type": "code",
   "execution_count": 13,
   "id": "352ae2c5",
   "metadata": {},
   "outputs": [
    {
     "name": "stdout",
     "output_type": "stream",
     "text": [
      "1. Area of football field is  4489.6 m2\n",
      "2. The shopkeeper is going to give back  6.59 $\n",
      "3. Total bathroom replacement cost is  15125.0 rs\n",
      "4. Binary of number 17 is: 10001\n"
     ]
    }
   ],
   "source": [
    "#1. You have a football field that is 92 meter long and 48.8 meter wide. \n",
    "#Find out total area using python and print it.\n",
    "length = 92\n",
    "width = 48.8\n",
    "area = length * width\n",
    "print('1. Area of football field is ', round(area,2),'m2')\n",
    "\n",
    "#2. You bought 9 packets of potato chips from a store. Each packet costs 1.49 dollar and you gave shopkeeper 20 dollar. \n",
    "#Find out using python, how many dollars is the shopkeeper going to give you back?\n",
    "packets_bought = 9\n",
    "packet_price = 1.49\n",
    "payed = 20\n",
    "receive_back = payed - packet_price*packets_bought\n",
    "print('2. The shopkeeper is going to give back ',receive_back,\"$\")\n",
    "\n",
    "#3. You want to replace tiles in your bathroom which is exactly square and 5.5 feet is its length. \n",
    "#If tiles cost 500 rs per square feet, how much will be the total cost to replace all tiles. \n",
    "#Calculate and print the cost using python (Hint: Use power operator ** to find area of a square)\n",
    "length = 5.5\n",
    "area = 5.5**2\n",
    "cost_per_squarefeet = 500\n",
    "total_cost = cost_per_squarefeet*area\n",
    "print('3. Total bathroom replacement cost is ',total_cost,'rs')\n",
    "\n",
    "#4. Print binary representation of number 17\n",
    "num=17\n",
    "print('4. Binary of number 17 is:',format(num,'b'))"
   ]
  },
  {
   "cell_type": "markdown",
   "id": "3dd53b1c",
   "metadata": {},
   "source": [
    "## STRINGS"
   ]
  },
  {
   "cell_type": "code",
   "execution_count": 28,
   "id": "18ed906e",
   "metadata": {
    "scrolled": true
   },
   "outputs": [
    {
     "name": "stdout",
     "output_type": "stream",
     "text": [
      "Using + operator:  Truong Cong Dinh\n",
      "HCM\n",
      "Viet Nam\n",
      "Using f string:  Truong Cong Dinh\n",
      "HCM\n",
      "Viet Nam\n",
      "revolves\n",
      "sun\n",
      "I eat 3 veggies and 2 fruis daily\n",
      "maine 10 samosa khaye\n"
     ]
    }
   ],
   "source": [
    "#1. Create 3 variables to store street, city and country, now create address variable to store entire address. \n",
    "#Use two ways of creating this variable, one using + operator and the other using f-string.\n",
    "#Now Print the address in such a way that the street, city and country prints in a separate line\n",
    "street = 'Truong Cong Dinh'\n",
    "city = 'HCM'\n",
    "country = 'Viet Nam'\n",
    "address_operator = street + '\\n' + city + '\\n' + country\n",
    "print('Using + operator: ', address_operator)\n",
    "adress_fstring = f'{street}\\n{city}\\n{country}'\n",
    "print('Using f string: ',adress_fstring)\n",
    "\n",
    "\n",
    "#2. Create a variable to store the string \"Earth revolves around the sun\"\n",
    "#2.1. Print \"revolves\" using slice operator\n",
    "#2.2. Print \"sun\" using negative index\n",
    "fact = 'Earth revolves around the sun'\n",
    "revoles_slice = fact[6:14]\n",
    "print(revoles_slice)\n",
    "sun = fact[-3:]\n",
    "print(sun)\n",
    "\n",
    "\n",
    "#3. Create two variables to store how many fruits and vegetables you eat in a day. \n",
    "#Now Print \"I eat x veggies and y fruits daily\" where x and y presents vegetables and fruits that you eat everyday. \n",
    "#Use python f string for this.\n",
    "fruit = 2\n",
    "vege = 3\n",
    "print( f'I eat {vege} veggies and {fruit} fruis daily')\n",
    "\n",
    "\n",
    "#4. I have a string variable called s='maine 200 banana khaye'. \n",
    "#This of course is a wrong statement, the correct statement is 'maine 10 samosa khaye'. \n",
    "#Replace incorrect words in original strong with new ones and print the new string. Also try to do this in one line.\n",
    "\n",
    "s='maine 200 banana khaye'\n",
    "s = s.replace('200','10').replace('banana','samosa')\n",
    "print(s)"
   ]
  },
  {
   "cell_type": "markdown",
   "id": "84b80b86",
   "metadata": {},
   "source": [
    "## LISTS1"
   ]
  },
  {
   "cell_type": "code",
   "execution_count": 56,
   "id": "bf78d00e",
   "metadata": {
    "scrolled": true
   },
   "outputs": [
    {
     "name": "stdout",
     "output_type": "stream",
     "text": [
      "In Feb, you spent 150 dollars extra compare to Jan\n",
      "Total expense of first quater is  7150\n",
      "Is there a month with exactly 2000 dollars expense? False\n",
      "[2200, 2350, 2600, 1930, 2190, 1980]\n"
     ]
    }
   ],
   "source": [
    "#Month Expense\n",
    "Jan =  2200\n",
    "Feb =  2350\n",
    "Mar = 2600\n",
    "Apr = 2130\n",
    "May = 2190\n",
    "exp = [2200, 2350, 2600, 2130, 2190]\n",
    "\n",
    "#1. In Feb, how many dollars you spent extra compare to January?\n",
    "print('In Feb, you spent',exp[1]-exp[0],'dollars extra compare to Jan')\n",
    "\n",
    "#2. Find out your total expense in first quarter (first three months) of the year.\n",
    "print('Total expense of first quater is ',sum(exp[:3]))\n",
    "\n",
    "#3. Find out if you spent exactly 2000 dollars in any month\n",
    "print('Is there a month with exactly 2000 dollars expense?',2000 in exp)\n",
    "\n",
    "#4. June month just finished and your expense is 1980 dollar. Add this item to our monthly expense list\n",
    "exp.append(1980)\n",
    "exp\n",
    "\n",
    "#5. You returned an item that you bought in a month of April and got a refund of 200$. #Make a correction \n",
    "exp[3] = 1930\n",
    "print(exp)\n"
   ]
  },
  {
   "cell_type": "markdown",
   "id": "da786cfe",
   "metadata": {},
   "source": [
    "## LISTS2"
   ]
  },
  {
   "cell_type": "code",
   "execution_count": 70,
   "id": "755e1fba",
   "metadata": {},
   "outputs": [
    {
     "name": "stdout",
     "output_type": "stream",
     "text": [
      "5\n",
      "['spider man', 'thor', 'hulk', 'iron man', 'captain america', 'black panther']\n",
      "['spider man', 'thor', 'hulk', 'black panther', 'iron man', 'captain america']\n",
      "['black panther', 'captain america', 'doctor strange', 'iron man', 'spider man']\n"
     ]
    }
   ],
   "source": [
    "heroes=['spider man','thor','hulk','iron man','captain america']\n",
    "\n",
    "#1. Length of the list\n",
    "print(len(heroes))\n",
    "\n",
    "#2. Add 'black panther' at the end of this list\n",
    "heroes.append('black panther')\n",
    "print(heroes)\n",
    "\n",
    "#3. You realize that you need to add 'black panther' after 'hulk',\n",
    "   #so remove it from the list first and then add it after 'hulk'\n",
    "heroes.remove('black panther')\n",
    "heroes.insert(3,'black panther')\n",
    "print(heroes)\n",
    "\n",
    "#4. Now you don't like thor and hulk because they get angry easily :)\n",
    "   #So you want to remove thor and hulk from list and replace them with doctor strange (because he is cool).\n",
    "   #Do that with one line of code.\n",
    "heroes[1:3] = ['doctor strange']\n",
    "\n",
    "#5. Sort the heros list in alphabetical order (Hint. Use dir() functions to list down all functions available in list)\n",
    "heroes.sort()\n",
    "print(heroes)"
   ]
  },
  {
   "cell_type": "markdown",
   "id": "21d911d0",
   "metadata": {},
   "source": [
    "## IF1"
   ]
  },
  {
   "cell_type": "code",
   "execution_count": 4,
   "id": "d47792f1",
   "metadata": {},
   "outputs": [
    {
     "name": "stdout",
     "output_type": "stream",
     "text": [
      "Gimme a city name:hue\n",
      "O cho khac r m\n",
      "Thanh pho 1dhaka\n",
      "Thanh pho 2khulna\n",
      "2 thang ni o Bangladesh ne\n"
     ]
    }
   ],
   "source": [
    "india = [\"mumbai\", \"banglore\", \"chennai\", \"delhi\"]\n",
    "pakistan = [\"lahore\",\"karachi\",\"islamabad\"]\n",
    "bangladesh = [\"dhaka\", \"khulna\", \"rangpur\"]\n",
    "\n",
    "#1. Write a program that asks user to enter a city name and it should tell which country the city belongs to\n",
    "city = input('Gimme a city name:')\n",
    "if city in india:\n",
    "    print('India')\n",
    "elif city in pakistan:\n",
    "    print('Pakistan')\n",
    "elif city in bangladesh:\n",
    "    print('Bangladesh')\n",
    "else: print('O cho khac r m')\n",
    "\n",
    "#2. Write a program that asks user to enter two cities and it tells you if they both are in same country or not. \n",
    "#For example if I enter mumbai and chennai, it will print \"Both cities are in India\" but \n",
    "#if I enter mumbai and dhaka it should print \"They don't belong to same country\"\n",
    "city1 = input('Thanh pho 1')\n",
    "city2 = input('Thanh pho 2')\n",
    "if city1 in india and city2 in india:\n",
    "    print('2 thang ni o India ne')\n",
    "elif city1 in pakistan and city2 in india:\n",
    "    print('2 thang ni o Pakistan ne')\n",
    "elif city1 in bangladesh and city2 in bangladesh:\n",
    "    print('2 thang ni o Bangladesh ne')\n",
    "else: print('2 dua 2 noi')\n"
   ]
  },
  {
   "cell_type": "markdown",
   "id": "e9c6036c",
   "metadata": {},
   "source": [
    "## IF2"
   ]
  },
  {
   "cell_type": "code",
   "execution_count": 10,
   "id": "70ed4f63",
   "metadata": {},
   "outputs": [
    {
     "name": "stdout",
     "output_type": "stream",
     "text": [
      "Your sugar: 100\n",
      "Your sugar is normal\n"
     ]
    }
   ],
   "source": [
    "#Write a python program that can tell you if your sugar is normal or not. Normal fasting level sugar range is 80 to 100.\n",
    "#Ask user to enter his fasting sugar level\n",
    "#If it is below 80 to 100 range then print that sugar is low\n",
    "#If it is above 100 then print that it is high otherwise print that it is normal\n",
    "\n",
    "sugar = input('Your sugar: ')\n",
    "if int(sugar) < 80:\n",
    "    print('Your sugar is low')\n",
    "elif int(sugar) <= 100: \n",
    "    print('Your sugar is normal')\n",
    "else: print('Your sugar is high')"
   ]
  },
  {
   "cell_type": "markdown",
   "id": "71ca332e",
   "metadata": {},
   "source": [
    "## FOR"
   ]
  },
  {
   "cell_type": "code",
   "execution_count": 27,
   "id": "e7db0996",
   "metadata": {
    "scrolled": true
   },
   "outputs": [
    {
     "name": "stdout",
     "output_type": "stream",
     "text": [
      "1.  4\n",
      "2.  1\n",
      "2.  9\n",
      "2.  25\n",
      "2.  49\n",
      "2.  81\n",
      "3. Enter expense amount: 2000\n",
      "3. Hong co m oi\n",
      "4. You have run 1 km\n",
      "4. Are you tired? (Yes or No)yes\n",
      "4. Loser\n",
      "5. *\n",
      "5. **\n",
      "5. ***\n",
      "5. ****\n",
      "5. *****\n"
     ]
    }
   ],
   "source": [
    "results = [\"heads\",\"tails\",\"tails\",\"heads\",\"tails\",\"heads\",\"heads\",\"tails\",\"tails\",\"tails\"]\n",
    "# 1. Using for loop figure out how many times you got heads\n",
    "head = 0\n",
    "for result in results:\n",
    "    if result =='heads':\n",
    "        head = head+1\n",
    "print('1. ',head)\n",
    "\n",
    "#2. Print square of all numbers between 1 to 10 except even numbers\n",
    "for i in range(1,10):\n",
    "    if i %2 == 0:\n",
    "        continue\n",
    "    print('2. ',i**2)\n",
    "\n",
    "#3. Your monthly expense list (from Jan to May) looks like this,\n",
    "expense_list = [2340, 2500, 2100, 3100, 2980]\n",
    "#Write a program that asks you to enter an expense amount and program should tell you in which month that expense occurred. \n",
    "#If expense is not found then it should print that as well.\n",
    "amount = input('3. Enter expense amount: ')\n",
    "month_list = ['January','Febuary','March','April','May']\n",
    "month = -1\n",
    "for expense in expense_list:\n",
    "    if expense == int(amount):\n",
    "        month = expense_list.index(expense) \n",
    "        break\n",
    "        \n",
    "if month == -1:\n",
    "    print('3. Hong co m oi')\n",
    "else: print('3. ',month_list[month])\n",
    "\n",
    "#4. Lets say you are running a 5 km race. Write a program that,\n",
    "#Upon completing each 1 km asks you \"are you tired?\"\n",
    "#If you reply \"yes\" then it should break and print \"you didn't finish the race\"\n",
    "#If you reply \"no\" then it should continue and ask \"are you tired\" on every km\n",
    "#If you finish all 5 km then it should print congratulations message\n",
    "for i in range(5):\n",
    "    print(f'4. You have run {i+1} km')\n",
    "    condition = input('4. Are you tired? (Yes or No)')\n",
    "    if condition == 'yes':\n",
    "        break\n",
    "    \n",
    "if i == 4: \n",
    "    print('4. Finished')\n",
    "else: print('4. Loser')\n",
    "\n",
    "#5. Write a program that prints following shape\n",
    "#*\n",
    "#**\n",
    "#***\n",
    "#****\n",
    "#*****\n",
    "for i in range(1,6):\n",
    "    s = ''\n",
    "    for j in range(i):\n",
    "        s += '*'\n",
    "    print(f'5. {s}')"
   ]
  },
  {
   "cell_type": "markdown",
   "id": "d4d8dbd9",
   "metadata": {},
   "source": [
    "## FUNCTIONS\n"
   ]
  },
  {
   "cell_type": "code",
   "execution_count": 15,
   "id": "5afd35bd",
   "metadata": {},
   "outputs": [
    {
     "name": "stdout",
     "output_type": "stream",
     "text": [
      "So lieu 130\n",
      "So lieu 220\n",
      "300.0\n",
      "*\n",
      "**\n",
      "***\n",
      "****\n"
     ]
    }
   ],
   "source": [
    "#1. Write a function called calculate_area that takes base and height as an input and returns and area of a triangle.\n",
    "#QUICK NOTE: gán giá trị cho 1 biến, nếu ko có j thay đổi thì khi ko nhập, nó auto tự hiểu theo giá trị ban đầu\n",
    "def calculate_area(d1, d2, shape = 'triangle'):\n",
    "    if shape == 'rectangle':\n",
    "        area = d1*d2\n",
    "    elif shape == 'triangle':\n",
    "        area = 1/2*d1*d2\n",
    "    else: \n",
    "        area = None\n",
    "        print('Cai hinh chi chi rua m')\n",
    "        \n",
    "    return area\n",
    "\n",
    "dimen1 = int(input('So lieu 1'))\n",
    "dimen2 = int(input('So lieu 2'))\n",
    "shape_area = calculate_area(dimen1, dimen2)\n",
    "print(shape_area)\n",
    "\n",
    "#2. Bai 5 cua For\n",
    "\n",
    "def print_star(n=5):\n",
    "    for i in range(n):\n",
    "        s = ''\n",
    "        for j in range(i+1):\n",
    "            s += '*'\n",
    "        print(s)\n",
    "\n",
    "test_4 = print_star(4)"
   ]
  },
  {
   "cell_type": "markdown",
   "id": "5586fc1d",
   "metadata": {},
   "source": [
    "## DICT TUPLE"
   ]
  },
  {
   "cell_type": "code",
   "execution_count": 2,
   "id": "2e192573",
   "metadata": {},
   "outputs": [
    {
     "name": "stdout",
     "output_type": "stream",
     "text": [
      "What function to do (add_country, remove, query, print_pop) ?query\n",
      "Check pop of which country?china\n",
      "143\n"
     ]
    }
   ],
   "source": [
    "pop = {'china': 143, \"india\":136, \"use\": 32,\"pakistan\":21}\n",
    "def print_pop():\n",
    "    for x in pop:\n",
    "        print(x,'==>', pop[x])\n",
    "\n",
    "\n",
    "#add: if user input add then it should further ask for a country name to add. \n",
    "#If country already exist in our dataset then it should print that it exist and do nothing.\n",
    "#If it doesn't then it asks for population and add that new country/population in our dictionary and print it\n",
    "def add_country():\n",
    "    country = input('Country want to add')\n",
    "    country = country.lower()\n",
    "    if country in pop:\n",
    "        print('This country has existed')\n",
    "    else: \n",
    "        pop_new = input('What is the population')\n",
    "        pop[country] = int(pop_new)\n",
    "        print_pop()\n",
    "\n",
    "#remove: when user inputs remove it should ask for a country to remove. \n",
    "#If country exist in our dictionary then remove it and print new dictionary using format shown above in (a). \n",
    "#Else print that country doesn't exist!\n",
    "\n",
    "def remove():\n",
    "    del_country = input('Remove which country')\n",
    "    del_country = del_country.lower()\n",
    "    if del_country in pop:\n",
    "        del pop[del_country]\n",
    "        print_pop()\n",
    "    else: print('It doesnt exist')\n",
    "def query():\n",
    "    query_country = input('Check pop of which country?')\n",
    "    query_country = query_country.lower()\n",
    "    if query_country in pop:\n",
    "        print(pop[query_country])\n",
    "        return\n",
    "    print('Hong co')\n",
    "    \n",
    "def tool():\n",
    "    tool = input('What function to do (add_country, remove, query, print_pop) ?')\n",
    "    if tool == 'add_country':\n",
    "        add_country()\n",
    "    elif tool == 'remove':\n",
    "        remove()\n",
    "    elif tool == 'query':\n",
    "        query()\n",
    "    elif tool == 'print_pop':\n",
    "        print_pop\n",
    "    else: print('Wrong function')\n",
    "    return\n",
    "\n",
    "tool()"
   ]
  },
  {
   "cell_type": "code",
   "execution_count": 26,
   "id": "b8e5f27d",
   "metadata": {},
   "outputs": [
    {
     "name": "stdout",
     "output_type": "stream",
     "text": [
      "Choose function: add_stock or print_all?print_all\n",
      "info ==> [600, 630, 620] ==> avg: 616.67\n",
      "ril ==> [1430, 1490, 1567] ==> avg: 1495.67\n",
      "mtl ==> [234, 180, 160] ==> avg: 191.33\n"
     ]
    }
   ],
   "source": [
    "stock = {'info': [600,630,620], 'ril':[1430,1490,1567],'mtl':[234,180,160]}\n",
    "import statistics\n",
    "\n",
    "def print_all():\n",
    "    for x in stock:\n",
    "        print(f'{x} ==> {stock[x]} ==> avg:', round(statistics.mean(stock[x]),2))\n",
    "    return\n",
    "\n",
    "#add: When user enters 'add', it asks for stock ticker and price. \n",
    "#If stock already exist in your list (like info, ril etc) then it will append the price to the list.\n",
    "#Otherwise it will create new entry in your dictionary. \n",
    "#For example entering 'tata' and 560 will add tata ==> [560] to the dictionary of stocks.\n",
    "\n",
    "def add_stock():\n",
    "    ticker = input('Enter stock ticker')\n",
    "    price = input('Enter price')\n",
    "    ticker = ticker.lower()\n",
    "    price = float(price)\n",
    "    if ticker in stock:\n",
    "        stock[ticker].append(price)\n",
    "        \n",
    "    else: stock[ticker] = [price]\n",
    "    print_all()\n",
    "\n",
    "def main():\n",
    "    function = input('Choose function: add_stock or print_all?')\n",
    "    if function == 'add_stock':\n",
    "        add_stock()\n",
    "    elif function == 'print_all':\n",
    "        print_all()\n",
    "    else: print('Dont hvae function called ', function)\n",
    "        \n",
    "\n",
    "if __name__ == '__main__':\n",
    "    main()"
   ]
  },
  {
   "cell_type": "markdown",
   "id": "dd5fe955",
   "metadata": {},
   "source": [
    "## READ & WRITE FILES"
   ]
  },
  {
   "cell_type": "code",
   "execution_count": 39,
   "id": "dd7a047d",
   "metadata": {
    "scrolled": true
   },
   "outputs": [
    {
     "name": "stdout",
     "output_type": "stream",
     "text": [
      "Word with maximum occurance is: --and-- with 9 times\n"
     ]
    }
   ],
   "source": [
    "#You have to read poem.txt file in your python program and find out words with maximum occurance.\n",
    "total = {}\n",
    "with open('poem.txt', 'r') as f:\n",
    "    #lines = f.read().split('\\n')\n",
    "    for line in f:\n",
    "        words = line.split(' ')\n",
    "        for word in words:\n",
    "            word = word.lower()\n",
    "            if word in total:\n",
    "                total[word] +=1\n",
    "            else: total[word] =1\n",
    "                    \n",
    "amount = list(total.values())\n",
    "max_num = max(amount)\n",
    "\n",
    "for x, y in total.items():\n",
    "    if y == max_num:\n",
    "        print(f'Word with maximum occurance is: --{x}-- with {max_num} times')"
   ]
  },
  {
   "cell_type": "code",
   "execution_count": 50,
   "id": "06b3f155",
   "metadata": {},
   "outputs": [
    {
     "name": "stdout",
     "output_type": "stream",
     "text": [
      "Company name, PE ratio, Price to book ratioReliance,22.23,2.25Tata Steel,4.39,0.68Infosys,18.57,4.42Axis Bank,38.89,2.81Bajaj Finance,58.61,11.86\n"
     ]
    }
   ],
   "source": [
    "#stocks.csv. You are writing a stock market application that will process this file and create a new file \n",
    "#with financial metrics such as pe ratio and price to book ratio. These are calculated as,\n",
    "\n",
    "#pe ratio = price / earnings per share\n",
    "#price to book ratio = price / book value\n",
    "with open('stocks.csv', 'r') as f, open('output.csv','w') as out:\n",
    "    out.write('Company name, PE ratio, Price to book ratio')\n",
    "    next(f)\n",
    "    for line in f:\n",
    "        token = line.split(',')\n",
    "        com_name = token[0]\n",
    "        price = float(token[1])\n",
    "        eps = float(token[2])\n",
    "        book_value = float(token[3])\n",
    "        pe_r = round(price/eps,2)\n",
    "        prtbr = round(price/book_value,2)\n",
    "        out.write(f'{com_name},{pe_r},{prtbr}')\n",
    "\n",
    "with open('output.csv','r') as out:        \n",
    "    print(out.read())"
   ]
  },
  {
   "cell_type": "markdown",
   "id": "20f22937",
   "metadata": {},
   "source": [
    "## CLASS AND OBJECT"
   ]
  },
  {
   "cell_type": "code",
   "execution_count": 59,
   "id": "009bd336",
   "metadata": {},
   "outputs": [
    {
     "name": "stdout",
     "output_type": "stream",
     "text": [
      "1200\n",
      "Anh Quan with ID: 1200\n"
     ]
    }
   ],
   "source": [
    "class employee:\n",
    "    def __init__(self, i, n):\n",
    "        self.id = i\n",
    "        self.name = n\n",
    "    def show(self):\n",
    "        print(f'{self.name} with ID: {self.id}')\n",
    "\n",
    "emp = employee(1200,'Anh Quan')\n",
    "print(emp.id)\n",
    "emp.show()"
   ]
  }
 ],
 "metadata": {
  "kernelspec": {
   "display_name": "Python 3 (ipykernel)",
   "language": "python",
   "name": "python3"
  },
  "language_info": {
   "codemirror_mode": {
    "name": "ipython",
    "version": 3
   },
   "file_extension": ".py",
   "mimetype": "text/x-python",
   "name": "python",
   "nbconvert_exporter": "python",
   "pygments_lexer": "ipython3",
   "version": "3.10.9"
  }
 },
 "nbformat": 4,
 "nbformat_minor": 5
}
